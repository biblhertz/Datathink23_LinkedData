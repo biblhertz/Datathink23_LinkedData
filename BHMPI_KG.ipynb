{
  "nbformat": 4,
  "nbformat_minor": 0,
  "metadata": {
    "colab": {
      "provenance": []
    },
    "kernelspec": {
      "name": "python3",
      "display_name": "Python 3"
    },
    "language_info": {
      "name": "python"
    }
  },
  "cells": [
    {
      "cell_type": "code",
      "source": [
        "!pip install rdflib sparqlwrapper"
      ],
      "metadata": {
        "colab": {
          "base_uri": "https://localhost:8080/"
        },
        "id": "nFSRxMcnHNzt",
        "outputId": "4fc1d091-3d34-4568-c582-53885aa5adb8"
      },
      "execution_count": 50,
      "outputs": [
        {
          "output_type": "stream",
          "name": "stdout",
          "text": [
            "Looking in indexes: https://pypi.org/simple, https://us-python.pkg.dev/colab-wheels/public/simple/\n",
            "Requirement already satisfied: rdflib in /usr/local/lib/python3.8/dist-packages (6.2.0)\n",
            "Requirement already satisfied: sparqlwrapper in /usr/local/lib/python3.8/dist-packages (2.0.0)\n",
            "Requirement already satisfied: pyparsing in /usr/local/lib/python3.8/dist-packages (from rdflib) (3.0.9)\n",
            "Requirement already satisfied: setuptools in /usr/local/lib/python3.8/dist-packages (from rdflib) (57.4.0)\n",
            "Requirement already satisfied: isodate in /usr/local/lib/python3.8/dist-packages (from rdflib) (0.6.1)\n",
            "Requirement already satisfied: six in /usr/local/lib/python3.8/dist-packages (from isodate->rdflib) (1.15.0)\n"
          ]
        }
      ]
    },
    {
      "cell_type": "code",
      "source": [
        "geodata = {\n",
        "  \"type\"     : \"FeatureCollection\",\n",
        "  \"name\"     : \"joined\",\n",
        "  \"crs\"      : { \"type\": \"name\", \"properties\": { \"name\": \"urn:ogc:def:crs:OGC:1.3:CRS84\" } },\n",
        "  \"features\" : [{\n",
        "      \"type\": \"Feature\", \"properties\": { \n",
        "          \"name\": \"Basilica di Santo Stefano Rotondo\", \n",
        "          \"id\": \"relation/1576101\", \n",
        "          \"image\": \"http://commons.wikimedia.org/wiki/Special:FilePath/Celio%20-%20santo%20Stefano%20Rotondo%20-%20interno%20in%20restauro%2001533-4.JPG\", \n",
        "          \"place\": \"http://www.wikidata.org/entity/Q919456\", \n",
        "          \"placeLabel\": \"basilica di Santo Stefano Rotondo al Celio\", \n",
        "          \"gnd\": \"4302056-2\", \n",
        "          \"iccd\": 15527 }\n",
        "      } , {\n",
        "      \"type\": \"Feature\", \"properties\": { \n",
        "          \"name\": \"San Francesco di Paola ai Monti\",\n",
        "          \"id\": \"way/157407150\", \n",
        "          \"image\": \"http://commons.wikimedia.org/wiki/Special:FilePath/Monti%20-%20S.%20Francesco%20di%20Paola.JPG\",\n",
        "          \"place\": \"http://www.wikidata.org/entity/Q1581615\", \n",
        "          \"placeLabel\": \"chiesa di San Francesco di Paola\", \n",
        "          \"gnd\": \"7563217-2\", \n",
        "          \"iccd\": None }\n",
        "      } , {\n",
        "      \"type\": \"Feature\", \"properties\": { \n",
        "          \"name\": \"Chiesa di San Luigi dei Francesi\", \n",
        "          \"id\": \"way/52335646\", \n",
        "          \"image\": \"http://commons.wikimedia.org/wiki/Special:FilePath/San%20Luigi%20dei%20Francesi%20Church.jpg\", \n",
        "          \"place\": \"http://www.wikidata.org/entity/Q638283\", \n",
        "          \"placeLabel\": \"chiesa di San Luigi dei Francesi\", \n",
        "          \"gnd\": \"4199094-8\", \n",
        "          \"iccd\": None }\n",
        "      }]\n",
        "}"
      ],
      "metadata": {
        "id": "T_W46J8HI3PF"
      },
      "execution_count": 51,
      "outputs": []
    },
    {
      "cell_type": "code",
      "source": [
        "gnd_ids = [ props['gnd'] for props in (feat['properties'] for feat in geodata['features'] ) ]\n",
        "print(gnd_ids)\n",
        "gndstr =  ' '.join(f'\"{w}\"' for w in gnd_ids)\n",
        "gndstr"
      ],
      "metadata": {
        "id": "XQN__6eM1jZY",
        "outputId": "2db4efe7-4408-4026-f9cc-d082cced6d18",
        "colab": {
          "base_uri": "https://localhost:8080/",
          "height": 54
        }
      },
      "execution_count": 52,
      "outputs": [
        {
          "output_type": "stream",
          "name": "stdout",
          "text": [
            "['4302056-2', '7563217-2', '4199094-8']\n"
          ]
        },
        {
          "output_type": "execute_result",
          "data": {
            "text/plain": [
              "'\"4302056-2\" \"7563217-2\" \"4199094-8\"'"
            ],
            "application/vnd.google.colaboratory.intrinsic+json": {
              "type": "string"
            }
          },
          "metadata": {},
          "execution_count": 52
        }
      ]
    },
    {
      "cell_type": "code",
      "execution_count": 53,
      "metadata": {
        "colab": {
          "base_uri": "https://localhost:8080/"
        },
        "id": "O_arNoegGjf6",
        "outputId": "cbd07ad4-e1b4-4aca-881d-cc16efabce84"
      },
      "outputs": [
        {
          "output_type": "stream",
          "name": "stdout",
          "text": [
            "https://d-nb.info/gnd/4302056-2                                           https://d-nb.info/gnd/7563217-2                                           https://d-nb.info/gnd/4199094-8\n",
            "------------------------------------------------------------------------  ------------------------------------------------------------------------  ------------------------------------------------------------------------\n",
            "http://data.biblhertz.it/builtwork/lvpa/87dd8d495162c03f2ba4dad0ae3a2645  http://data.biblhertz.it/builtwork/lvpa/b7e76dbc38f4c11e4ddd14300dcfdb78  http://data.biblhertz.it/builtwork/lvpa/31251f31311faa61d67bb6a40bcce55b\n",
            "http://data.biblhertz.it/builtwork/zuccaro/100                            http://data.biblhertz.it/builtwork/zuccaro/71                             http://data.biblhertz.it/builtwork/zuccaro/912\n",
            "http://data.biblhertz.it/romacommunispatria/builtwork/NB53                http://data.biblhertz.it/romacommunispatria/builtwork/NB07                http://data.biblhertz.it/romacommunispatria/builtwork/NB14\n",
            "http://www.wikidata.org/entity/Q919456                                                                                                              http://www.wikidata.org/entity/Q54863397\n"
          ]
        }
      ],
      "source": [
        "from SPARQLWrapper import SPARQLWrapper, JSON\n",
        "from tabulate import tabulate\n",
        "\n",
        "prefixes = \"\"\"\n",
        "PREFIX rdf: <http://www.w3.org/1999/02/22-rdf-syntax-ns#>\n",
        "PREFIX rdfs: <http://www.w3.org/2000/01/rdf-schema#>\n",
        "PREFIX crm: <http://www.cidoc-crm.org/cidoc-crm/>\n",
        "PREFIX skos: <http://www.w3.org/2004/02/skos/core#>\n",
        "PREFIX rcp: <http://data.biblhertz.it/romacommunispatria/term/>\n",
        "PREFIX crmsoc: <http://www.cidoc-crm.org/cidoc-crm/CRMsoc/>\n",
        "PREFIX owl: <http://www.w3.org/2002/07/owl#>\n",
        "PREFIX  dct:<http://purl.org/dc/terms/>\n",
        "PREFIX  bibo:<http://purl.org/ontology/bibo/>\n",
        "PREFIX  frbr:<http://purl.org/vocab/frbr/core#>\n",
        "\n",
        "\"\"\"\n",
        "\n",
        "sparql = SPARQLWrapper('http://data.biblhertz.it/sparql/')\n",
        "\n",
        "q = prefixes + \"\"\"\n",
        "SELECT DISTINCT ?x ?link WHERE {\n",
        "  VALUES ?gnd { \"\"\" +  gndstr + \"\"\" }\n",
        "  BIND ( IRI(CONCAT(\"https://d-nb.info/gnd/\", ?gnd)) AS ?link)\n",
        "  ?x (owl:sameAs|^owl:sameAs)* ?link\n",
        "}\n",
        "\"\"\"\n",
        "\n",
        "sparql.setQuery(q)\n",
        "sparql.setReturnFormat(JSON)\n",
        "try:\n",
        "    ret = sparql.queryAndConvert()\n",
        "    links = {}\n",
        "    for r in ret[\"results\"][\"bindings\"]:\n",
        "      if r['link']['value'] != r['x']['value']:\n",
        "        links.setdefault(r['link']['value'], []).append(r['x']['value'])\n",
        "    print(tabulate(links, headers=links.keys()))\n",
        "except Exception as e:\n",
        "    print(e)"
      ]
    },
    {
      "cell_type": "code",
      "source": [
        "q = prefixes + \"\"\"\n",
        "SELECT DISTINCT ?gnd ?otherNames ?rite ?assignee ?architect WHERE {\n",
        "  VALUES ?gnd { \"\"\" +  gndstr + \"\"\" }\n",
        "  BIND ( IRI(CONCAT(\"https://d-nb.info/gnd/\", ?gnd)) AS ?link)\n",
        "  ?x (owl:sameAs|^owl:sameAs)* ?link\n",
        "  . OPTIONAL { ?x rcp:had_or_has_Christian_denomination/skos:prefLabel ?rite }\n",
        "  . OPTIONAL { ?x ^crmsoc:P6_to/crmsoc:P7_to/skos:prefLabel ?assignee }\n",
        "  . OPTIONAL { ?x skos:altLabel ?otherNames }\n",
        "  . OPTIONAL { ?x crm:108i_was_produced_by/crm:P01i_is_domain_of [ crm:P02_has_range/skos:preferredLabel ?architect ; crm:P14.1_in_the_role_of \t\n",
        "<http://data.biblhertz.it/role/architekt> ] }\n",
        "}\n",
        "\"\"\"\n",
        "sparql.setQuery(q)\n",
        "try:\n",
        "    ret = sparql.queryAndConvert()\n",
        "    print(ret[\"results\"][\"bindings\"])\n",
        "except Exception as e:\n",
        "    print(e)"
      ],
      "metadata": {
        "colab": {
          "base_uri": "https://localhost:8080/"
        },
        "id": "1LORWz0vTMK8",
        "outputId": "f3c0defb-f64e-409a-ea07-d7b8a802217a"
      },
      "execution_count": 54,
      "outputs": [
        {
          "output_type": "stream",
          "name": "stdout",
          "text": [
            "[{'gnd': {'type': 'literal', 'value': '4302056-2'}}, {'gnd': {'type': 'literal', 'value': '4302056-2'}, 'otherNames': {'xml:lang': 'it', 'type': 'literal', 'value': 'Santo Stefano Rotondo al Celio, Santo Stefano in Girimonte, Santo Stefano in Querquetulano'}, 'rite': {'xml:lang': 'en', 'type': 'literal', 'value': 'Latin'}, 'assignee': {'xml:lang': 'it', 'type': 'literal', 'value': 'ungheresi'}}, {'gnd': {'type': 'literal', 'value': '7563217-2'}}, {'gnd': {'type': 'literal', 'value': '7563217-2'}, 'architect': {'type': 'literal', 'value': 'Luigi Barattone'}}, {'gnd': {'type': 'literal', 'value': '7563217-2'}, 'rite': {'xml:lang': 'en', 'type': 'literal', 'value': 'Latin'}, 'assignee': {'xml:lang': 'it', 'type': 'literal', 'value': 'calabresi'}}, {'gnd': {'type': 'literal', 'value': '4199094-8'}}, {'gnd': {'type': 'literal', 'value': '4199094-8'}, 'architect': {'type': 'literal', 'value': 'Antoine Derizet'}}, {'gnd': {'type': 'literal', 'value': '4199094-8'}, 'architect': {'type': 'literal', 'value': 'Domenico Fontana'}}, {'gnd': {'type': 'literal', 'value': '4199094-8'}, 'architect': {'type': 'literal', 'value': 'Carlo Innocenzo Sala'}}, {'gnd': {'type': 'literal', 'value': '4199094-8'}, 'otherNames': {'xml:lang': 'it', 'type': 'literal', 'value': 'San Luigi dei Francesi a Campo Marzio'}, 'rite': {'xml:lang': 'en', 'type': 'literal', 'value': 'Latin'}, 'assignee': {'xml:lang': 'it', 'type': 'literal', 'value': 'francesi'}}]\n"
          ]
        }
      ]
    },
    {
      "cell_type": "code",
      "source": [
        "attrs = [ 'assignee', 'otherNames' , 'architect', 'rite' ]\n",
        "for r in ret[\"results\"][\"bindings\"]:\n",
        "  gnd = r['gnd']['value']\n",
        "  props = geodata['features'][gnd_ids.index(gnd)]['properties']\n",
        "  for a in attrs:\n",
        "    if a in r :\n",
        "      a_ = props.setdefault(a,[])\n",
        "      if r[a]['value'] not in a_ :\n",
        "        a_.append(r[a]['value'])\n",
        "geodata"
      ],
      "metadata": {
        "id": "paMScjk25HBM",
        "outputId": "3eb87d45-be29-4bad-b436-4ee56d071c3b",
        "colab": {
          "base_uri": "https://localhost:8080/"
        }
      },
      "execution_count": 55,
      "outputs": [
        {
          "output_type": "execute_result",
          "data": {
            "text/plain": [
              "{'type': 'FeatureCollection',\n",
              " 'name': 'joined',\n",
              " 'crs': {'type': 'name',\n",
              "  'properties': {'name': 'urn:ogc:def:crs:OGC:1.3:CRS84'}},\n",
              " 'features': [{'type': 'Feature',\n",
              "   'properties': {'name': 'Basilica di Santo Stefano Rotondo',\n",
              "    'id': 'relation/1576101',\n",
              "    'image': 'http://commons.wikimedia.org/wiki/Special:FilePath/Celio%20-%20santo%20Stefano%20Rotondo%20-%20interno%20in%20restauro%2001533-4.JPG',\n",
              "    'place': 'http://www.wikidata.org/entity/Q919456',\n",
              "    'placeLabel': 'basilica di Santo Stefano Rotondo al Celio',\n",
              "    'gnd': '4302056-2',\n",
              "    'iccd': 15527,\n",
              "    'assignee': ['ungheresi'],\n",
              "    'otherNames': ['Santo Stefano Rotondo al Celio, Santo Stefano in Girimonte, Santo Stefano in Querquetulano'],\n",
              "    'rite': ['Latin']}},\n",
              "  {'type': 'Feature',\n",
              "   'properties': {'name': 'San Francesco di Paola ai Monti',\n",
              "    'id': 'way/157407150',\n",
              "    'image': 'http://commons.wikimedia.org/wiki/Special:FilePath/Monti%20-%20S.%20Francesco%20di%20Paola.JPG',\n",
              "    'place': 'http://www.wikidata.org/entity/Q1581615',\n",
              "    'placeLabel': 'chiesa di San Francesco di Paola',\n",
              "    'gnd': '7563217-2',\n",
              "    'iccd': None,\n",
              "    'architect': ['Luigi Barattone'],\n",
              "    'assignee': ['calabresi'],\n",
              "    'rite': ['Latin']}},\n",
              "  {'type': 'Feature',\n",
              "   'properties': {'name': 'Chiesa di San Luigi dei Francesi',\n",
              "    'id': 'way/52335646',\n",
              "    'image': 'http://commons.wikimedia.org/wiki/Special:FilePath/San%20Luigi%20dei%20Francesi%20Church.jpg',\n",
              "    'place': 'http://www.wikidata.org/entity/Q638283',\n",
              "    'placeLabel': 'chiesa di San Luigi dei Francesi',\n",
              "    'gnd': '4199094-8',\n",
              "    'iccd': None,\n",
              "    'architect': ['Antoine Derizet',\n",
              "     'Domenico Fontana',\n",
              "     'Carlo Innocenzo Sala'],\n",
              "    'assignee': ['francesi'],\n",
              "    'otherNames': ['San Luigi dei Francesi a Campo Marzio'],\n",
              "    'rite': ['Latin']}}]}"
            ]
          },
          "metadata": {},
          "execution_count": 55
        }
      ]
    },
    {
      "cell_type": "code",
      "source": [
        "import requests\n",
        "\n",
        "endpoint = 'https://gn.biblhertz.it/fotothek/api/normdatei/architectur'\n",
        "for gnd in gnd_ids:\n",
        "  resp = requests.get(endpoint + '/gnd' + gnd)\n",
        "  data = resp.json()\n",
        "  print(data)"
      ],
      "metadata": {
        "id": "UUEJ6AN9D3I2",
        "outputId": "4da09a03-8ecf-4c05-929c-1271785de332",
        "colab": {
          "base_uri": "https://localhost:8080/"
        }
      },
      "execution_count": 56,
      "outputs": [
        {
          "output_type": "stream",
          "name": "stdout",
          "text": [
            "[]\n",
            "[{'id': '08050553', 'title': 'San Francesco di Paola dei Calabresi'}]\n",
            "[]\n"
          ]
        }
      ]
    },
    {
      "cell_type": "code",
      "source": [
        "\n",
        "sparql = SPARQLWrapper('https://lod.b3kat.de/sparql')\n",
        "\n",
        "q = prefixes + \"\"\"\n",
        "SELECT DISTINCt * WHERE { \n",
        "?s dct:subject ?y\n",
        " ; frbr:exemplar/frbr:owner <http://lod.b3kat.de/bib/DE-Y2>\n",
        "FILTER (STR(?y)=\"http://d-nb.info/gnd/7563217-2\")\n",
        "}\n",
        "\"\"\"\n",
        "\n",
        "sparql.setQuery(q)\n",
        "sparql.setReturnFormat(JSON)\n",
        "\n",
        "ret = sparql.queryAndConvert()\n",
        "ret"
      ],
      "metadata": {
        "id": "fTtDwzyjMO7I",
        "outputId": "bc991d5f-294b-4285-d0d8-beed76c44d1b",
        "colab": {
          "base_uri": "https://localhost:8080/"
        }
      },
      "execution_count": 63,
      "outputs": [
        {
          "output_type": "execute_result",
          "data": {
            "text/plain": [
              "{'head': {'vars': ['s', 'y']},\n",
              " 'results': {'bindings': [{'s': {'type': 'uri',\n",
              "     'value': 'http://lod.b3kat.de/title/BV038093268'},\n",
              "    'y': {'type': 'uri', 'value': 'http://d-nb.info/gnd/7563217-2'}},\n",
              "   {'s': {'type': 'uri', 'value': 'http://lod.b3kat.de/title/BV038217608'},\n",
              "    'y': {'type': 'uri', 'value': 'http://d-nb.info/gnd/7563217-2'}},\n",
              "   {'s': {'type': 'uri', 'value': 'http://lod.b3kat.de/title/BV040894002'},\n",
              "    'y': {'type': 'uri', 'value': 'http://d-nb.info/gnd/7563217-2'}},\n",
              "   {'s': {'type': 'uri', 'value': 'http://lod.b3kat.de/title/BV041699931'},\n",
              "    'y': {'type': 'uri', 'value': 'http://d-nb.info/gnd/7563217-2'}},\n",
              "   {'s': {'type': 'uri', 'value': 'http://lod.b3kat.de/title/BV042507866'},\n",
              "    'y': {'type': 'uri', 'value': 'http://d-nb.info/gnd/7563217-2'}}]}}"
            ]
          },
          "metadata": {},
          "execution_count": 63
        }
      ]
    }
  ]
}