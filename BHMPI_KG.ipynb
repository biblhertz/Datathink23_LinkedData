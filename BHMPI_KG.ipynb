{
  "nbformat": 4,
  "nbformat_minor": 0,
  "metadata": {
    "colab": {
      "provenance": []
    },
    "kernelspec": {
      "name": "python3",
      "display_name": "Python 3"
    },
    "language_info": {
      "name": "python"
    }
  },
  "cells": [
    {
      "cell_type": "code",
      "source": [
        "!pip install rdflib sparqlwrapper"
      ],
      "metadata": {
        "colab": {
          "base_uri": "https://localhost:8080/"
        },
        "id": "nFSRxMcnHNzt",
        "outputId": "f2877a13-fd71-4578-d0ac-1dd00930ff38"
      },
      "execution_count": 7,
      "outputs": [
        {
          "output_type": "stream",
          "name": "stdout",
          "text": [
            "Looking in indexes: https://pypi.org/simple, https://us-python.pkg.dev/colab-wheels/public/simple/\n",
            "Requirement already satisfied: rdflib in /usr/local/lib/python3.8/dist-packages (6.2.0)\n",
            "Collecting sparqlwrapper\n",
            "  Downloading SPARQLWrapper-2.0.0-py3-none-any.whl (28 kB)\n",
            "Requirement already satisfied: isodate in /usr/local/lib/python3.8/dist-packages (from rdflib) (0.6.1)\n",
            "Requirement already satisfied: setuptools in /usr/local/lib/python3.8/dist-packages (from rdflib) (57.4.0)\n",
            "Requirement already satisfied: pyparsing in /usr/local/lib/python3.8/dist-packages (from rdflib) (3.0.9)\n",
            "Requirement already satisfied: six in /usr/local/lib/python3.8/dist-packages (from isodate->rdflib) (1.15.0)\n",
            "Installing collected packages: sparqlwrapper\n",
            "Successfully installed sparqlwrapper-2.0.0\n"
          ]
        }
      ]
    },
    {
      "cell_type": "code",
      "source": [
        "geodata = {\n",
        "  \"type\"     : \"FeatureCollection\",\n",
        "  \"name\"     : \"joined\",\n",
        "  \"crs\"      : { \"type\": \"name\", \"properties\": { \"name\": \"urn:ogc:def:crs:OGC:1.3:CRS84\" } },\n",
        "  \"features\" : [{\n",
        "      \"type\": \"Feature\", \"properties\": { \n",
        "          \"name\": \"Basilica di Santo Stefano Rotondo\", \n",
        "          \"id\": \"relation/1576101\", \n",
        "          \"image\": \"http://commons.wikimedia.org/wiki/Special:FilePath/Celio%20-%20santo%20Stefano%20Rotondo%20-%20interno%20in%20restauro%2001533-4.JPG\", \n",
        "          \"place\": \"http://www.wikidata.org/entity/Q919456\", \n",
        "          \"placeLabel\": \"basilica di Santo Stefano Rotondo al Celio\", \n",
        "          \"gnd\": \"4302056-2\", \n",
        "          \"iccd\": 15527 }\n",
        "      } , {\n",
        "      \"type\": \"Feature\", \"properties\": { \n",
        "          \"name\": \"San Francesco di Paola ai Monti\",\n",
        "          \"id\": \"way/157407150\", \n",
        "          \"image\": \"http://commons.wikimedia.org/wiki/Special:FilePath/Monti%20-%20S.%20Francesco%20di%20Paola.JPG\",\n",
        "          \"place\": \"http://www.wikidata.org/entity/Q1581615\", \n",
        "          \"placeLabel\": \"chiesa di San Francesco di Paola\", \n",
        "          \"gnd\": \"7563217-2\", \n",
        "          \"iccd\": None }\n",
        "      } , {\n",
        "      \"type\": \"Feature\", \"properties\": { \n",
        "          \"name\": \"Chiesa di San Luigi dei Francesi\", \n",
        "          \"id\": \"way/52335646\", \n",
        "          \"image\": \"http://commons.wikimedia.org/wiki/Special:FilePath/San%20Luigi%20dei%20Francesi%20Church.jpg\", \n",
        "          \"place\": \"http://www.wikidata.org/entity/Q638283\", \n",
        "          \"placeLabel\": \"chiesa di San Luigi dei Francesi\", \n",
        "          \"gnd\": \"4199094-8\", \n",
        "          \"iccd\": None }\n",
        "      }]\n",
        "}"
      ],
      "metadata": {
        "id": "T_W46J8HI3PF"
      },
      "execution_count": 8,
      "outputs": []
    },
    {
      "cell_type": "code",
      "source": [],
      "metadata": {
        "id": "ML0c-LnQexB6"
      },
      "execution_count": null,
      "outputs": []
    },
    {
      "cell_type": "code",
      "execution_count": 23,
      "metadata": {
        "colab": {
          "base_uri": "https://localhost:8080/"
        },
        "id": "O_arNoegGjf6",
        "outputId": "b2a384f0-388b-4de4-953a-27671071c79e"
      },
      "outputs": [
        {
          "output_type": "stream",
          "name": "stdout",
          "text": [
            "https://d-nb.info/gnd/4302056-2                                           https://d-nb.info/gnd/7563217-2                                           https://d-nb.info/gnd/4199094-8\n",
            "------------------------------------------------------------------------  ------------------------------------------------------------------------  ------------------------------------------------------------------------\n",
            "http://data.biblhertz.it/builtwork/lvpa/87dd8d495162c03f2ba4dad0ae3a2645  http://data.biblhertz.it/builtwork/lvpa/b7e76dbc38f4c11e4ddd14300dcfdb78  http://data.biblhertz.it/builtwork/lvpa/31251f31311faa61d67bb6a40bcce55b\n",
            "http://data.biblhertz.it/builtwork/zuccaro/100                            http://data.biblhertz.it/builtwork/zuccaro/71                             http://data.biblhertz.it/builtwork/zuccaro/912\n",
            "http://data.biblhertz.it/romacommunispatria/builtwork/NB53                http://data.biblhertz.it/romacommunispatria/builtwork/NB07                http://data.biblhertz.it/romacommunispatria/builtwork/NB14\n",
            "http://www.wikidata.org/entity/Q919456                                                                                                              http://www.wikidata.org/entity/Q54863397\n"
          ]
        }
      ],
      "source": [
        "from SPARQLWrapper import SPARQLWrapper, JSON\n",
        "from tabulate import tabulate\n",
        "\n",
        "sparql = SPARQLWrapper('http://data.biblhertz.it/sparql/')\n",
        "\n",
        "q = \"\"\"\n",
        "PREFIX owl: <http://www.w3.org/2002/07/owl#>\n",
        "SELECT DISTINCT ?x ?link WHERE {\n",
        "  VALUES ?gnd { \"4302056-2\" \"7563217-2\" \"4199094-8\" }\n",
        "  BIND ( IRI(CONCAT(\"https://d-nb.info/gnd/\", ?gnd)) AS ?link)\n",
        "  ?x (owl:sameAs|^owl:sameAs)* ?link\n",
        "}\n",
        "\"\"\"\n",
        "sparql.setQuery(q)\n",
        "sparql.setReturnFormat(JSON)\n",
        "try:\n",
        "    ret = sparql.queryAndConvert()\n",
        "    links = {}\n",
        "    for r in ret[\"results\"][\"bindings\"]:\n",
        "      if r['link']['value'] != r['x']['value']:\n",
        "        links.setdefault(r['link']['value'], []).append(r['x']['value'])\n",
        "    print(tabulate(links, headers=links.keys()))\n",
        "except Exception as e:\n",
        "    print(e)"
      ]
    },
    {
      "cell_type": "code",
      "source": [
        "q=\"\"\"\n",
        "PREFIX rdf: <http://www.w3.org/1999/02/22-rdf-syntax-ns#>\n",
        "PREFIX rdfs: <http://www.w3.org/2000/01/rdf-schema#>\n",
        "PREFIX crm: <http://www.cidoc-crm.org/cidoc-crm/>\n",
        "PREFIX skos: <http://www.w3.org/2004/02/skos/core#>\n",
        "PREFIX rcp: <http://data.biblhertz.it/romacommunispatria/term/>\n",
        "PREFIX crmsoc: <http://www.cidoc-crm.org/cidoc-crm/CRMsoc/>\n",
        "PREFIX owl: <http://www.w3.org/2002/07/owl#>\n",
        "\n",
        "SELECT DISTINCT ?gnd ?otherNames ?rite ?natio ?architect WHERE {\n",
        "  VALUES ?gnd { \"4302056-2\" \"7563217-2\" \"4199094-8\" }\n",
        "  BIND ( IRI(CONCAT(\"https://d-nb.info/gnd/\", ?gnd)) AS ?link)\n",
        "  ?x (owl:sameAs|^owl:sameAs)* ?link\n",
        "  . OPTIONAL { ?x rcp:had_or_has_Christian_denomination/skos:prefLabel ?rite }\n",
        "  . OPTIONAL { ?x ^crmsoc:P6_to/crmsoc:P7_to/skos:prefLabel ?natio }\n",
        "  . OPTIONAL { ?x skos:altLabel ?otherNames }\n",
        "  . OPTIONAL { ?x crm:108i_was_produced_by/crm:P01i_is_domain_of [ crm:P02_has_range/skos:preferredLabel ?architect ; crm:P14.1_in_the_role_of \t\n",
        "<http://data.biblhertz.it/role/architekt> ] }\n",
        "}\n",
        "\"\"\"\n",
        "sparql.setQuery(q)\n",
        "try:\n",
        "    ret = sparql.queryAndConvert()\n",
        "    print(ret[\"results\"][\"bindings\"])\n",
        "except Exception as e:\n",
        "    print(e)"
      ],
      "metadata": {
        "colab": {
          "base_uri": "https://localhost:8080/"
        },
        "id": "1LORWz0vTMK8",
        "outputId": "d26d3e93-645d-4270-8357-55d7ea4f55e4"
      },
      "execution_count": 28,
      "outputs": [
        {
          "output_type": "stream",
          "name": "stdout",
          "text": [
            "[{'gnd': {'type': 'literal', 'value': '4302056-2'}}, {'gnd': {'type': 'literal', 'value': '4302056-2'}, 'otherNames': {'xml:lang': 'it', 'type': 'literal', 'value': 'Santo Stefano Rotondo al Celio, Santo Stefano in Girimonte, Santo Stefano in Querquetulano'}, 'rite': {'xml:lang': 'en', 'type': 'literal', 'value': 'Latin'}, 'natio': {'xml:lang': 'it', 'type': 'literal', 'value': 'ungheresi'}}, {'gnd': {'type': 'literal', 'value': '7563217-2'}}, {'gnd': {'type': 'literal', 'value': '7563217-2'}, 'architect': {'type': 'literal', 'value': 'Luigi Barattone'}}, {'gnd': {'type': 'literal', 'value': '7563217-2'}, 'rite': {'xml:lang': 'en', 'type': 'literal', 'value': 'Latin'}, 'natio': {'xml:lang': 'it', 'type': 'literal', 'value': 'calabresi'}}, {'gnd': {'type': 'literal', 'value': '4199094-8'}}, {'gnd': {'type': 'literal', 'value': '4199094-8'}, 'architect': {'type': 'literal', 'value': 'Antoine Derizet'}}, {'gnd': {'type': 'literal', 'value': '4199094-8'}, 'architect': {'type': 'literal', 'value': 'Domenico Fontana'}}, {'gnd': {'type': 'literal', 'value': '4199094-8'}, 'architect': {'type': 'literal', 'value': 'Carlo Innocenzo Sala'}}, {'gnd': {'type': 'literal', 'value': '4199094-8'}, 'otherNames': {'xml:lang': 'it', 'type': 'literal', 'value': 'San Luigi dei Francesi a Campo Marzio'}, 'rite': {'xml:lang': 'en', 'type': 'literal', 'value': 'Latin'}, 'natio': {'xml:lang': 'it', 'type': 'literal', 'value': 'francesi'}}]\n"
          ]
        }
      ]
    }
  ]
}